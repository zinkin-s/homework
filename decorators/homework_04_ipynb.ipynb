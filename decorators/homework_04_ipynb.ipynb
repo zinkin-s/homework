{
 "cells": [
  {
   "cell_type": "markdown",
   "metadata": {
    "colab_type": "text",
    "id": "view-in-github"
   },
   "source": [
    "<a href=\"https://colab.research.google.com/github/zinkin-s/ds_project/blob/main/%D0%9A%D0%BE%D0%BF%D0%B8%D1%8F_%D0%B1%D0%BB%D0%BE%D0%BA%D0%BD%D0%BE%D1%82%D0%B0_%22homework_04_ipynb%22.ipynb\" target=\"_parent\"><img src=\"https://colab.research.google.com/assets/colab-badge.svg\" alt=\"Open In Colab\"/></a>"
   ]
  },
  {
   "cell_type": "markdown",
   "metadata": {
    "id": "QY4qPJPpgyIS"
   },
   "source": [
    "# Домашнее задание: декораторы"
   ]
  },
  {
   "cell_type": "markdown",
   "metadata": {
    "id": "Chacc6YchldZ"
   },
   "source": [
    "## Импорт библиотек, установка констант"
   ]
  },
  {
   "cell_type": "code",
   "execution_count": 1,
   "metadata": {
    "id": "w8iKrWvwhrFd"
   },
   "outputs": [],
   "source": [
    "import requests\n",
    "import time\n",
    "import re\n",
    "import time\n",
    "from functools import wraps\n",
    "\n",
    "from random import randint"
   ]
  },
  {
   "cell_type": "code",
   "execution_count": 2,
   "metadata": {
    "id": "-LRkS0fSi8Np"
   },
   "outputs": [],
   "source": [
    "BOOK_PATH = 'https://www.gutenberg.org/files/2638/2638-0.txt'"
   ]
  },
  {
   "cell_type": "markdown",
   "metadata": {
    "id": "kARfL8ifg4MH"
   },
   "source": [
    "## Задание 1"
   ]
  },
  {
   "cell_type": "code",
   "execution_count": 9,
   "metadata": {
    "id": "hNHNWPhngrUl"
   },
   "outputs": [],
   "source": [
    "def benchmark(func):\n",
    "    \"\"\"\n",
    "    Декоратор, выводящий время, которое заняло выполнение декорируемой функции\n",
    "    \"\"\"\n",
    "    @wraps(func)\n",
    "    def wrapper(*args, **kwargs):\n",
    "        start = time.perf_counter()\n",
    "        result = func(*args, **kwargs)\n",
    "        end = time.perf_counter()\n",
    "        print(f'Время выполнения функции {func.__name__}: {end - start:.6}')\n",
    "        return result\n",
    "\n",
    "    return wrapper"
   ]
  },
  {
   "cell_type": "markdown",
   "metadata": {
    "id": "tGlbUKjihL5n"
   },
   "source": [
    "## Задание 2"
   ]
  },
  {
   "cell_type": "code",
   "execution_count": 30,
   "metadata": {
    "id": "wugOZDLqhNe-"
   },
   "outputs": [],
   "source": [
    "def logging(func):\n",
    "    \"\"\"\n",
    "    Декоратор, который выводит параметры с которыми была вызвана функция\n",
    "    \"\"\"\n",
    "    @wraps(func)\n",
    "    def wrapper(*args, **kwargs):\n",
    "        result = func(*args, **kwargs)\n",
    "        a = (tuple(args), kwargs)\n",
    "        print('Функция {func.__name__} вызвана с параметрами:', a)\n",
    "        return result\n",
    "\n",
    "    return wrapper"
   ]
  },
  {
   "cell_type": "markdown",
   "metadata": {
    "id": "Sq1tv5fshTfv"
   },
   "source": [
    "## Задание 3"
   ]
  },
  {
   "cell_type": "code",
   "execution_count": 40,
   "metadata": {
    "id": "9nyvuxXkhVeb"
   },
   "outputs": [],
   "source": [
    "def counter(func):\n",
    "    \"\"\"\n",
    "    Декоратор, считающий и выводящий количество вызовов декорируемой функции\n",
    "    \"\"\"\n",
    "    count = 0\n",
    "    @wraps(func)\n",
    "    def wrapper(*args, **kwargs):\n",
    "        nonlocal count\n",
    "        result = func(*args)\n",
    "        count += 1\n",
    "        print(f'Функция {func.__name__} вызывалась {count} раз')\n",
    "        return result\n",
    "    \n",
    "    return wrapper"
   ]
  },
  {
   "cell_type": "markdown",
   "metadata": {
    "id": "uHn8Adfshz5q"
   },
   "source": [
    "## Задание 4"
   ]
  },
  {
   "cell_type": "code",
   "execution_count": 43,
   "metadata": {
    "id": "R7uu6WtGifNX"
   },
   "outputs": [],
   "source": [
    "def memo(func):\n",
    "  \"\"\"\n",
    "  Декоратор, запоминающий результаты исполнения функции func, чьи аргументы args должны быть хешируемыми\n",
    "  \"\"\"\n",
    "  cache = {}\n",
    "\n",
    "  def fmemo(*args):\n",
    "    hash = tuple(args)\n",
    "    if hash not in cache:\n",
    "        cache[hash] = func(*args)\n",
    "        return cache[hash]\n",
    "    else:\n",
    "        return cache[hash]\n",
    "\n",
    "  fmemo.cache = cache\n",
    "  return fmemo"
   ]
  },
  {
   "cell_type": "markdown",
   "metadata": {
    "id": "Zn5UQCa_izxo"
   },
   "source": [
    "## Тестирование"
   ]
  },
  {
   "cell_type": "code",
   "execution_count": 31,
   "metadata": {
    "id": "CHCJ64I8i2QB"
   },
   "outputs": [
    {
     "name": "stdout",
     "output_type": "stream",
     "text": [
      "Время выполнения функции word_count: 4.50298\n",
      "Функция {func.__name__} вызвана с параметрами: (('whole',), {})\n",
      "Функция word_count вызывалась 1 раз\n",
      "Cлово whole встречается 176 раз\n"
     ]
    }
   ],
   "source": [
    "@counter\n",
    "@logging\n",
    "@benchmark\n",
    "def word_count(word, url=BOOK_PATH):\n",
    "    \"\"\"\n",
    "    Функция для посчета указанного слова на html-странице\n",
    "    \"\"\"\n",
    "\n",
    "    # отправляем запрос в библиотеку Gutenberg и забираем текст\n",
    "    raw = requests.get(url).text\n",
    "\n",
    "    # заменяем в тексте все небуквенные символы на пробелы\n",
    "    processed_book = re.sub('[\\W]+' , ' ', raw).lower()\n",
    "\n",
    "    # считаем\n",
    "    cnt = len(re.findall(word.lower(), processed_book))\n",
    "\n",
    "    return f\"Cлово {word} встречается {cnt} раз\"\n",
    "\n",
    "print(word_count('whole'))"
   ]
  },
  {
   "cell_type": "code",
   "execution_count": 47,
   "metadata": {
    "id": "ZE4Rfn-hh3k3"
   },
   "outputs": [],
   "source": [
    "@counter\n",
    "@logging\n",
    "@benchmark\n",
    "def fib(n):\n",
    "    if n < 2:\n",
    "        return n\n",
    "    return fib(n-2) + fib(n-1)"
   ]
  },
  {
   "cell_type": "code",
   "execution_count": 48,
   "metadata": {
    "id": "Io94NyjiiXG4"
   },
   "outputs": [
    {
     "name": "stdout",
     "output_type": "stream",
     "text": [
      "Время выполнения функции fib: 7.3e-07\n",
      "Функция {func.__name__} вызвана с параметрами: ((1,), {})\n",
      "Функция fib вызывалась 1 раз\n",
      "Время выполнения функции fib: 5.77e-07\n",
      "Функция {func.__name__} вызвана с параметрами: ((0,), {})\n",
      "Функция fib вызывалась 2 раз\n",
      "Время выполнения функции fib: 4.5e-07\n",
      "Функция {func.__name__} вызвана с параметрами: ((1,), {})\n",
      "Функция fib вызывалась 3 раз\n",
      "Время выполнения функции fib: 7.2278e-05\n",
      "Функция {func.__name__} вызвана с параметрами: ((2,), {})\n",
      "Функция fib вызывалась 4 раз\n",
      "Время выполнения функции fib: 0.000239094\n",
      "Функция {func.__name__} вызвана с параметрами: ((3,), {})\n",
      "Функция fib вызывалась 5 раз\n",
      "Время выполнения функции fib: 3.07e-07\n",
      "Функция {func.__name__} вызвана с параметрами: ((0,), {})\n",
      "Функция fib вызывалась 6 раз\n",
      "Время выполнения функции fib: 3.19e-07\n",
      "Функция {func.__name__} вызвана с параметрами: ((1,), {})\n",
      "Функция fib вызывалась 7 раз\n",
      "Время выполнения функции fib: 6.7252e-05\n",
      "Функция {func.__name__} вызвана с параметрами: ((2,), {})\n",
      "Функция fib вызывалась 8 раз\n",
      "Время выполнения функции fib: 3.45e-07\n",
      "Функция {func.__name__} вызвана с параметрами: ((1,), {})\n",
      "Функция fib вызывалась 9 раз\n",
      "Время выполнения функции fib: 5.55e-07\n",
      "Функция {func.__name__} вызвана с параметрами: ((0,), {})\n",
      "Функция fib вызывалась 10 раз\n",
      "Время выполнения функции fib: 3.01e-07\n",
      "Функция {func.__name__} вызвана с параметрами: ((1,), {})\n",
      "Функция fib вызывалась 11 раз\n",
      "Время выполнения функции fib: 7.1647e-05\n",
      "Функция {func.__name__} вызвана с параметрами: ((2,), {})\n",
      "Функция fib вызывалась 12 раз\n",
      "Время выполнения функции fib: 0.000143267\n",
      "Функция {func.__name__} вызвана с параметрами: ((3,), {})\n",
      "Функция fib вызывалась 13 раз\n",
      "Время выполнения функции fib: 0.00027784\n",
      "Функция {func.__name__} вызвана с параметрами: ((4,), {})\n",
      "Функция fib вызывалась 14 раз\n",
      "Время выполнения функции fib: 0.000587195\n",
      "Функция {func.__name__} вызвана с параметрами: ((5,), {})\n",
      "Функция fib вызывалась 15 раз\n"
     ]
    },
    {
     "data": {
      "text/plain": [
       "5"
      ]
     },
     "execution_count": 48,
     "metadata": {},
     "output_type": "execute_result"
    }
   ],
   "source": [
    "# измеряем время выполнения\n",
    "fib(5)"
   ]
  },
  {
   "cell_type": "code",
   "execution_count": 49,
   "metadata": {
    "id": "W9B3e-t9iTUj"
   },
   "outputs": [],
   "source": [
    "@counter\n",
    "@logging\n",
    "@benchmark\n",
    "@memo\n",
    "def fib(n):\n",
    "    if n < 2:\n",
    "        return n\n",
    "    return fib(n-2) + fib(n-1)"
   ]
  },
  {
   "cell_type": "code",
   "execution_count": 50,
   "metadata": {
    "id": "Sk6_4KQaidkh"
   },
   "outputs": [
    {
     "name": "stdout",
     "output_type": "stream",
     "text": [
      "Время выполнения функции fmemo: 2.501e-06\n",
      "Функция {func.__name__} вызвана с параметрами: ((1,), {})\n",
      "Функция fmemo вызывалась 1 раз\n",
      "Время выполнения функции fmemo: 2.153e-06\n",
      "Функция {func.__name__} вызвана с параметрами: ((0,), {})\n",
      "Функция fmemo вызывалась 2 раз\n",
      "Время выполнения функции fmemo: 1.624e-06\n",
      "Функция {func.__name__} вызвана с параметрами: ((1,), {})\n",
      "Функция fmemo вызывалась 3 раз\n",
      "Время выполнения функции fmemo: 0.000127841\n",
      "Функция {func.__name__} вызвана с параметрами: ((2,), {})\n",
      "Функция fmemo вызывалась 4 раз\n",
      "Время выполнения функции fmemo: 0.000364406\n",
      "Функция {func.__name__} вызвана с параметрами: ((3,), {})\n",
      "Функция fmemo вызывалась 5 раз\n",
      "Время выполнения функции fmemo: 1.018e-06\n",
      "Функция {func.__name__} вызвана с параметрами: ((2,), {})\n",
      "Функция fmemo вызывалась 6 раз\n",
      "Время выполнения функции fmemo: 1.172e-06\n",
      "Функция {func.__name__} вызвана с параметрами: ((3,), {})\n",
      "Функция fmemo вызывалась 7 раз\n",
      "Время выполнения функции fmemo: 0.000124435\n",
      "Функция {func.__name__} вызвана с параметрами: ((4,), {})\n",
      "Функция fmemo вызывалась 8 раз\n",
      "Время выполнения функции fmemo: 0.000612476\n",
      "Функция {func.__name__} вызвана с параметрами: ((5,), {})\n",
      "Функция fmemo вызывалась 9 раз\n"
     ]
    },
    {
     "data": {
      "text/plain": [
       "5"
      ]
     },
     "execution_count": 50,
     "metadata": {},
     "output_type": "execute_result"
    }
   ],
   "source": [
    "# измеряем время выполнения\n",
    "fib(5)"
   ]
  },
  {
   "cell_type": "code",
   "execution_count": null,
   "metadata": {},
   "outputs": [],
   "source": []
  }
 ],
 "metadata": {
  "colab": {
   "include_colab_link": true,
   "provenance": []
  },
  "kernelspec": {
   "display_name": "Python 3 (ipykernel)",
   "language": "python",
   "name": "python3"
  },
  "language_info": {
   "codemirror_mode": {
    "name": "ipython",
    "version": 3
   },
   "file_extension": ".py",
   "mimetype": "text/x-python",
   "name": "python",
   "nbconvert_exporter": "python",
   "pygments_lexer": "ipython3",
   "version": "3.10.12"
  }
 },
 "nbformat": 4,
 "nbformat_minor": 4
}
