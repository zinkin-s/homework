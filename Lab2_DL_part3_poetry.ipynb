{
  "cells": [
    {
      "cell_type": "markdown",
      "metadata": {
        "id": "view-in-github",
        "colab_type": "text"
      },
      "source": [
        "<a href=\"https://colab.research.google.com/github/zinkin-s/homework/blob/main/Lab2_DL_part3_poetry.ipynb\" target=\"_parent\"><img src=\"https://colab.research.google.com/assets/colab-badge.svg\" alt=\"Open In Colab\"/></a>"
      ]
    },
    {
      "cell_type": "markdown",
      "metadata": {
        "id": "qEVazsIsPTvF"
      },
      "source": [
        "## Lab 2"
      ]
    },
    {
      "cell_type": "markdown",
      "metadata": {
        "id": "KQbW2NKdPTvH"
      },
      "source": [
        "### Part 3. Poetry generation\n",
        "\n",
        "Let's try to generate some poetry using RNNs.\n",
        "\n",
        "You have several choices here:\n",
        "\n",
        "* The Shakespeare sonnets, file `sonnets.txt` available in the notebook directory.\n",
        "\n",
        "* Роман в стихах \"Евгений Онегин\" Александра Сергеевича Пушкина. В предобработанном виде доступен по [ссылке](https://github.com/attatrol/data_sources/blob/master/onegin.txt).\n",
        "\n",
        "* Some other text source, if it will be approved by the course staff.\n",
        "\n",
        "Text generation can be designed in several steps:\n",
        "    \n",
        "1. Data loading.\n",
        "2. Dictionary generation.\n",
        "3. Data preprocessing.\n",
        "4. Model (neural network) training.\n",
        "5. Text generation (model evaluation).\n"
      ]
    },
    {
      "cell_type": "code",
      "execution_count": 2,
      "metadata": {
        "id": "1akxjlwAPTvI"
      },
      "outputs": [],
      "source": [
        "import string\n",
        "import os"
      ]
    },
    {
      "cell_type": "markdown",
      "metadata": {
        "id": "JI6kK1rjPTvI"
      },
      "source": [
        "### Data loading: Shakespeare"
      ]
    },
    {
      "cell_type": "markdown",
      "metadata": {
        "id": "rvg1Nrv_PTvI"
      },
      "source": [
        "Shakespeare sonnets are awailable at this [link](http://www.gutenberg.org/ebooks/1041?msg=welcome_stranger). In addition, they are stored in the same directory as this notebook (`sonnetes.txt`). Simple preprocessing is already done for you in the next cell: all technical info is dropped."
      ]
    },
    {
      "cell_type": "code",
      "execution_count": 2,
      "metadata": {
        "collapsed": true,
        "colab": {
          "base_uri": "https://localhost:8080/"
        },
        "id": "tutgD_FPPTvJ",
        "outputId": "ef8efb19-93e4-421c-b1ca-7b116f1e8ef4"
      },
      "outputs": [
        {
          "output_type": "stream",
          "name": "stdout",
          "text": [
            "--2025-04-23 14:51:57--  https://raw.githubusercontent.com/girafe-ai/ml-course/22f_basic/homeworks/lab02_deep_learning/sonnets.txt\n",
            "Resolving raw.githubusercontent.com (raw.githubusercontent.com)... 185.199.108.133, 185.199.109.133, 185.199.110.133, ...\n",
            "Connecting to raw.githubusercontent.com (raw.githubusercontent.com)|185.199.108.133|:443... connected.\n",
            "HTTP request sent, awaiting response... 200 OK\n",
            "Length: 119748 (117K) [text/plain]\n",
            "Saving to: ‘sonnets.txt’\n",
            "\n",
            "sonnets.txt         100%[===================>] 116.94K  --.-KB/s    in 0.002s  \n",
            "\n",
            "2025-04-23 14:51:57 (47.6 MB/s) - ‘sonnets.txt’ saved [119748/119748]\n",
            "\n"
          ]
        }
      ],
      "source": [
        "if not os.path.exists('sonnets.txt'):\n",
        "    !wget https://raw.githubusercontent.com/girafe-ai/ml-course/22f_basic/homeworks/lab02_deep_learning/sonnets.txt\n",
        "\n",
        "with open('sonnets.txt', 'r') as iofile:\n",
        "    text = iofile.readlines()\n",
        "\n",
        "TEXT_START = 45\n",
        "TEXT_END = -368\n",
        "text = text[TEXT_START : TEXT_END]\n",
        "assert len(text) == 2616"
      ]
    },
    {
      "cell_type": "markdown",
      "metadata": {
        "id": "daql627xPTvJ"
      },
      "source": [
        "In opposite to the in-class practice, this time we want to predict complex text. Let's reduce the complexity of the task and lowercase all the symbols.\n",
        "\n",
        "Now variable `text` is a list of strings. Join all the strings into one and lowercase it."
      ]
    },
    {
      "cell_type": "code",
      "execution_count": 3,
      "metadata": {
        "colab": {
          "base_uri": "https://localhost:8080/"
        },
        "id": "kFFUb_tNPTvJ",
        "outputId": "51684bd3-7f8a-4547-c69b-23f7d275798b"
      },
      "outputs": [
        {
          "output_type": "stream",
          "name": "stdout",
          "text": [
            "OK!\n"
          ]
        }
      ],
      "source": [
        "# Join all the strings into one and lowercase it\n",
        "# Put result into variable text.\n",
        "\n",
        "# Your great code here\n",
        "text = ''.join(text).lower()\n",
        "assert len(text) == 100225, 'Are you sure you have concatenated all the strings?'\n",
        "assert not any([x in set(text) for x in string.ascii_uppercase]), 'Uppercase letters are present'\n",
        "print('OK!')"
      ]
    },
    {
      "cell_type": "markdown",
      "metadata": {
        "id": "epOFih0DPTvJ"
      },
      "source": [
        "### Data loading: \"Евгений Онегин\"\n"
      ]
    },
    {
      "cell_type": "code",
      "execution_count": 3,
      "metadata": {
        "colab": {
          "base_uri": "https://localhost:8080/"
        },
        "id": "BiZJlAW7PTvJ",
        "outputId": "e51d1a51-63b6-4a85-d777-dbacc05ac568"
      },
      "outputs": [
        {
          "output_type": "stream",
          "name": "stdout",
          "text": [
            "--2025-04-23 15:25:59--  https://raw.githubusercontent.com/attatrol/data_sources/master/onegin.txt\n",
            "Resolving raw.githubusercontent.com (raw.githubusercontent.com)... 185.199.108.133, 185.199.110.133, 185.199.109.133, ...\n",
            "Connecting to raw.githubusercontent.com (raw.githubusercontent.com)|185.199.108.133|:443... connected.\n",
            "HTTP request sent, awaiting response... 200 OK\n",
            "Length: 262521 (256K) [text/plain]\n",
            "Saving to: ‘onegin.txt’\n",
            "\n",
            "onegin.txt          100%[===================>] 256.37K  --.-KB/s    in 0.004s  \n",
            "\n",
            "2025-04-23 15:25:59 (65.2 MB/s) - ‘onegin.txt’ saved [262521/262521]\n",
            "\n"
          ]
        }
      ],
      "source": [
        "!wget https://raw.githubusercontent.com/attatrol/data_sources/master/onegin.txt\n",
        "\n",
        "with open('onegin.txt', 'r') as iofile:\n",
        "    text = iofile.readlines()\n",
        "\n",
        "text = [x.replace('\\t\\t', '') for x in text]"
      ]
    },
    {
      "cell_type": "markdown",
      "metadata": {
        "id": "IDVrp2rcPTvK"
      },
      "source": [
        "In opposite to the in-class practice, this time we want to predict complex text. Let's reduce the complexity of the task and lowercase all the symbols.\n",
        "\n",
        "Now variable `text` is a list of strings. Join all the strings into one and lowercase it."
      ]
    },
    {
      "cell_type": "code",
      "execution_count": 4,
      "metadata": {
        "id": "PQv6csPgPTvK"
      },
      "outputs": [],
      "source": [
        "# Join all the strings into one and lowercase it\n",
        "# Put result into variable text.\n",
        "\n",
        "# Your great code here\n",
        "out = ''.join(text).lower()\n"
      ]
    },
    {
      "cell_type": "markdown",
      "metadata": {
        "id": "Mj__DSMDPTvK"
      },
      "source": [
        "Put all the characters, that you've seen in the text, into variable `tokens`."
      ]
    },
    {
      "cell_type": "code",
      "execution_count": 5,
      "metadata": {
        "id": "TdlraXNuPTvK"
      },
      "outputs": [],
      "source": [
        "tokens = sorted(set(out))\n"
      ]
    },
    {
      "cell_type": "markdown",
      "metadata": {
        "id": "uwH3ukchPTvK"
      },
      "source": [
        "Create dictionary `token_to_idx = {<char>: <index>}` and dictionary `idx_to_token = {<index>: <char>}`"
      ]
    },
    {
      "cell_type": "code",
      "execution_count": 6,
      "metadata": {
        "collapsed": true,
        "id": "PbfyzcQbPTvL"
      },
      "outputs": [],
      "source": [
        "# dict <index>:<char>\n",
        "# Your great code here\n",
        "\n",
        "# dict <char>:<index>\n",
        "# Your great code here\n",
        "token_to_idx = {token: idx for idx, token in enumerate(tokens)}\n",
        "idx_to_token = {idx: char for char, idx in token_to_idx.items()}"
      ]
    },
    {
      "cell_type": "markdown",
      "metadata": {
        "id": "TjQhBn2XPTvL"
      },
      "source": [
        "*Comment: in this task we have only 38 different tokens, so let's use one-hot encoding.*"
      ]
    },
    {
      "cell_type": "markdown",
      "metadata": {
        "id": "VDd9SytYPTvL"
      },
      "source": [
        "### Building the model"
      ]
    },
    {
      "cell_type": "markdown",
      "metadata": {
        "id": "yXegH2-GPTvL"
      },
      "source": [
        "Now we want to build and train recurrent neural net which would be able to something similar to Shakespeare's poetry.\n",
        "\n",
        "Let's use vanilla RNN, similar to the one created during the lesson."
      ]
    },
    {
      "cell_type": "code",
      "execution_count": 22,
      "metadata": {
        "collapsed": true,
        "colab": {
          "base_uri": "https://localhost:8080/"
        },
        "id": "fZ6nIn3sPTvL",
        "outputId": "d308a673-5ca8-4aa5-f842-9cd906437b68"
      },
      "outputs": [
        {
          "output_type": "stream",
          "name": "stdout",
          "text": [
            "Generated chunk: народных слез, рукоплесканий\n",
            "с младой семеновой делил;\n",
            "там наш катенин воскресил\n",
            "корнеля гений велича\n",
            "Epoch: 100 / 10000. Average Loss: 4.1239\n",
            "Epoch: 200 / 10000. Average Loss: 3.3338\n",
            "Epoch: 300 / 10000. Average Loss: 3.1957\n",
            "Epoch: 400 / 10000. Average Loss: 3.1411\n",
            "Epoch: 500 / 10000. Average Loss: 3.0584\n",
            "Epoch: 600 / 10000. Average Loss: 3.0171\n",
            "Epoch: 700 / 10000. Average Loss: 2.9209\n",
            "Epoch: 800 / 10000. Average Loss: 2.8370\n",
            "Epoch: 900 / 10000. Average Loss: 2.7979\n",
            "Epoch: 1000 / 10000. Average Loss: 2.7481\n",
            "Epoch: 1100 / 10000. Average Loss: 2.6993\n",
            "Epoch: 1200 / 10000. Average Loss: 2.6412\n",
            "Epoch: 1300 / 10000. Average Loss: 2.6193\n",
            "Epoch: 1400 / 10000. Average Loss: 2.5765\n",
            "Epoch: 1500 / 10000. Average Loss: 2.5550\n",
            "Epoch: 1600 / 10000. Average Loss: 2.5077\n",
            "Epoch: 1700 / 10000. Average Loss: 2.5020\n",
            "Epoch: 1800 / 10000. Average Loss: 2.4622\n",
            "Epoch: 1900 / 10000. Average Loss: 2.4421\n",
            "Epoch: 2000 / 10000. Average Loss: 2.4183\n",
            "Epoch: 2100 / 10000. Average Loss: 2.3976\n",
            "Epoch: 2200 / 10000. Average Loss: 2.3851\n",
            "Epoch: 2300 / 10000. Average Loss: 2.3595\n",
            "Epoch: 2400 / 10000. Average Loss: 2.3108\n",
            "Epoch: 2500 / 10000. Average Loss: 2.3208\n",
            "Epoch: 2600 / 10000. Average Loss: 2.2835\n",
            "Epoch: 2700 / 10000. Average Loss: 2.2742\n",
            "Epoch: 2800 / 10000. Average Loss: 2.2546\n",
            "Epoch: 2900 / 10000. Average Loss: 2.2174\n",
            "Epoch: 3000 / 10000. Average Loss: 2.2091\n",
            "Epoch: 3100 / 10000. Average Loss: 2.2007\n",
            "Epoch: 3200 / 10000. Average Loss: 2.1845\n",
            "Epoch: 3300 / 10000. Average Loss: 2.1428\n",
            "Epoch: 3400 / 10000. Average Loss: 2.1517\n",
            "Epoch: 3500 / 10000. Average Loss: 2.1054\n",
            "Epoch: 3600 / 10000. Average Loss: 2.1016\n",
            "Epoch: 3700 / 10000. Average Loss: 2.1163\n",
            "Epoch: 3800 / 10000. Average Loss: 2.1204\n",
            "Epoch: 3900 / 10000. Average Loss: 2.0971\n",
            "Epoch: 4000 / 10000. Average Loss: 2.0774\n",
            "Epoch: 4100 / 10000. Average Loss: 2.0647\n",
            "Epoch: 4200 / 10000. Average Loss: 2.0322\n",
            "Epoch: 4300 / 10000. Average Loss: 2.0442\n",
            "Epoch: 4400 / 10000. Average Loss: 2.0127\n",
            "Epoch: 4500 / 10000. Average Loss: 1.9958\n",
            "Epoch: 4600 / 10000. Average Loss: 1.9741\n",
            "Epoch: 4700 / 10000. Average Loss: 1.9840\n",
            "Epoch: 4800 / 10000. Average Loss: 1.9499\n",
            "Epoch: 4900 / 10000. Average Loss: 1.9572\n",
            "Epoch: 5000 / 10000. Average Loss: 1.9435\n",
            "Epoch: 5100 / 10000. Average Loss: 1.9752\n",
            "Epoch: 5200 / 10000. Average Loss: 1.9419\n",
            "Epoch: 5300 / 10000. Average Loss: 1.9210\n",
            "Epoch: 5400 / 10000. Average Loss: 1.8942\n",
            "Epoch: 5500 / 10000. Average Loss: 1.9034\n",
            "Epoch: 5600 / 10000. Average Loss: 1.9177\n",
            "Epoch: 5700 / 10000. Average Loss: 1.9063\n",
            "Epoch: 5800 / 10000. Average Loss: 1.8829\n",
            "Epoch: 5900 / 10000. Average Loss: 1.8677\n",
            "Epoch: 6000 / 10000. Average Loss: 1.8804\n",
            "Epoch: 6100 / 10000. Average Loss: 1.8442\n",
            "Epoch: 6200 / 10000. Average Loss: 1.8528\n",
            "Epoch: 6300 / 10000. Average Loss: 1.8371\n",
            "Epoch: 6400 / 10000. Average Loss: 1.8402\n",
            "Epoch: 6500 / 10000. Average Loss: 1.8346\n",
            "Epoch: 6600 / 10000. Average Loss: 1.8243\n",
            "Epoch: 6700 / 10000. Average Loss: 1.8063\n",
            "Epoch: 6800 / 10000. Average Loss: 1.7963\n",
            "Epoch: 6900 / 10000. Average Loss: 1.7938\n",
            "Epoch: 7000 / 10000. Average Loss: 1.7619\n",
            "Epoch: 7100 / 10000. Average Loss: 1.7418\n",
            "Epoch: 7200 / 10000. Average Loss: 1.7619\n",
            "Epoch: 7300 / 10000. Average Loss: 1.7776\n",
            "Epoch: 7400 / 10000. Average Loss: 1.7962\n",
            "Epoch: 7500 / 10000. Average Loss: 1.7598\n",
            "Epoch: 7600 / 10000. Average Loss: 1.7650\n",
            "Epoch: 7700 / 10000. Average Loss: 1.7229\n",
            "Epoch: 7800 / 10000. Average Loss: 1.7078\n",
            "Epoch: 7900 / 10000. Average Loss: 1.7133\n",
            "Epoch: 8000 / 10000. Average Loss: 1.7424\n",
            "Epoch: 8100 / 10000. Average Loss: 1.7108\n",
            "Epoch: 8200 / 10000. Average Loss: 1.7224\n",
            "Epoch: 8300 / 10000. Average Loss: 1.7025\n",
            "Epoch: 8400 / 10000. Average Loss: 1.6786\n",
            "Epoch: 8500 / 10000. Average Loss: 1.6804\n",
            "Epoch: 8600 / 10000. Average Loss: 1.6984\n",
            "Epoch: 8700 / 10000. Average Loss: 1.6878\n",
            "Epoch: 8800 / 10000. Average Loss: 1.6758\n",
            "Epoch: 8900 / 10000. Average Loss: 1.6509\n",
            "Epoch: 9000 / 10000. Average Loss: 1.6917\n",
            "Epoch: 9100 / 10000. Average Loss: 1.6490\n",
            "Epoch: 9200 / 10000. Average Loss: 1.6705\n",
            "Epoch: 9300 / 10000. Average Loss: 1.6699\n",
            "Epoch: 9400 / 10000. Average Loss: 1.6037\n",
            "Epoch: 9500 / 10000. Average Loss: 1.6739\n",
            "Epoch: 9600 / 10000. Average Loss: 1.6686\n",
            "Epoch: 9700 / 10000. Average Loss: 1.6595\n",
            "Epoch: 9800 / 10000. Average Loss: 1.6345\n",
            "Epoch: 9900 / 10000. Average Loss: 1.6191\n",
            "Epoch: 10000 / 10000. Average Loss: 1.6200\n"
          ]
        }
      ],
      "source": [
        "import torch\n",
        "import torch.nn as nn\n",
        "import random\n",
        "\n",
        "num_tokens = len(token_to_idx)\n",
        "seq_length = 100\n",
        "\n",
        "def chunk_to_tensor(chunk):\n",
        "    indices = [token_to_idx[letter] for letter in chunk]\n",
        "    tensor = torch.tensor(indices, dtype=torch.long).unsqueeze(1)\n",
        "    one_hot_tensor = torch.nn.functional.one_hot(tensor, num_classes=num_tokens).float()\n",
        "    return one_hot_tensor\n",
        "\n",
        "def generate_chunk():\n",
        "    start_index = random.randint(0, len(text) - seq_length - 1)\n",
        "    end_index = start_index + seq_length + 1\n",
        "    return out[start_index:end_index]\n",
        "\n",
        "def training_set():\n",
        "    chunk = generate_chunk()\n",
        "    inp = chunk_to_tensor(chunk[:-1])\n",
        "    target = torch.tensor([token_to_idx[letter] for letter in chunk[1:]], dtype=torch.long).unsqueeze(1)\n",
        "    return inp, target\n",
        "\n",
        "class CharRNN(nn.Module):\n",
        "    def __init__(self, input_size, hidden_size, output_size):\n",
        "        super(CharRNN, self).__init__()\n",
        "        self.hidden_size = hidden_size\n",
        "\n",
        "        self.i2h = nn.Linear(input_size + hidden_size, hidden_size)\n",
        "        self.i2o = nn.Linear(input_size + hidden_size, output_size)\n",
        "        self.softmax = nn.LogSoftmax(dim=1)\n",
        "\n",
        "    def forward(self, input, hidden):\n",
        "        combined = torch.cat((input, hidden), dim=1)\n",
        "        hidden = self.i2h(combined)\n",
        "        output = self.i2o(combined)\n",
        "        output = self.softmax(output)\n",
        "        return output, hidden\n",
        "\n",
        "    def init_hidden(self, batch_size=1):\n",
        "        return torch.zeros(batch_size, self.hidden_size, device=device)\n",
        "\n",
        "device = 'cuda' if torch.cuda.is_available() else 'cpu'\n",
        "\n",
        "n_hidden = 128\n",
        "rnn = CharRNN(num_tokens, n_hidden, num_tokens)\n",
        "rnn.to(device)\n",
        "\n",
        "criterion = nn.NLLLoss()\n",
        "learning_rate = 1e-3\n",
        "optimizer = torch.optim.Adam(rnn.parameters(), lr=learning_rate)\n",
        "\n",
        "def train(inp, target):\n",
        "    rnn.zero_grad()\n",
        "    hidden = rnn.init_hidden().to(device)\n",
        "    loss = 0\n",
        "\n",
        "    for i in range(inp.size()[0]):\n",
        "        output, hidden = rnn(inp[i].to(device), hidden)\n",
        "        loss += criterion(output, target[i].to(device))\n",
        "\n",
        "    loss.backward()\n",
        "    optimizer.step()\n",
        "\n",
        "    return output, loss.item() / seq_length\n",
        "\n",
        "n_epochs = 10000\n",
        "current_loss = 0\n",
        "all_losses = []\n",
        "\n",
        "# Проверка функции generate_chunk\n",
        "chunk = generate_chunk()\n",
        "print(f\"Generated chunk: {chunk}\")\n",
        "\n",
        "for epoch in range(1, n_epochs + 1):\n",
        "    inp, target = training_set()\n",
        "    output, loss = train(inp, target)\n",
        "    current_loss += loss\n",
        "\n",
        "    if epoch % 100 == 0:\n",
        "        print(f'Epoch: {epoch} / {n_epochs}. Average Loss: {current_loss / 100:.4f}')\n",
        "        all_losses.append(current_loss / 100)\n",
        "        current_loss = 0"
      ]
    },
    {
      "cell_type": "markdown",
      "metadata": {
        "id": "UN0tI6fRPTvL"
      },
      "source": [
        "Plot the loss function (axis X: number of epochs, axis Y: loss function)."
      ]
    },
    {
      "cell_type": "code",
      "execution_count": 23,
      "metadata": {
        "colab": {
          "base_uri": "https://localhost:8080/",
          "height": 447
        },
        "id": "Pra5FOy8PTvL",
        "outputId": "7fce6ad8-a516-4ed3-c4d9-81dde8d5d2c4"
      },
      "outputs": [
        {
          "output_type": "execute_result",
          "data": {
            "text/plain": [
              "[<matplotlib.lines.Line2D at 0x7e8c4c794250>]"
            ]
          },
          "metadata": {},
          "execution_count": 23
        },
        {
          "output_type": "display_data",
          "data": {
            "text/plain": [
              "<Figure size 640x480 with 1 Axes>"
            ],
            "image/png": "[encoded data removed]"
          },
          "metadata": {}
        }
      ],
      "source": [
        "# Your plot code here\n",
        "import matplotlib.pyplot as plt\n",
        "\n",
        "plt.plot(all_losses)\n"
      ]
    },
    {
      "cell_type": "code",
      "execution_count": null,
      "metadata": {
        "id": "1zhqglWkPTvL"
      },
      "outputs": [],
      "source": [
        "import torch.nn.functional as F\n",
        "import numpy as np\n",
        "def generate_sample(char_rnn, seed_phrase='wh', max_length=seq_length, temperature=1.0):\n",
        "    '''\n",
        "    ### Disclaimer: this is an example function for text generation.\n",
        "    ### You can either adapt it in your code or create your own function\n",
        "\n",
        "    The function generates text given a phrase of length at least SEQ_LENGTH.\n",
        "    :param seed_phrase: prefix characters. The RNN is asked to continue the phrase\n",
        "    :param max_length: maximum output length, including seed_phrase\n",
        "    :param temperature: coefficient for sampling.  higher temperature produces more chaotic outputs,\n",
        "        smaller temperature converges to the single most likely output.\n",
        "\n",
        "    Be careful with the model output. This model waits logits (not probabilities/log-probabilities)\n",
        "    of the next symbol.\n",
        "    '''\n",
        "\n",
        "    #x_sequence = [token_to_idx[token] for token in seed_phrase]\n",
        "    x_sequence = chunk_to_tensor(seed_phrase)\n",
        "    #hid_state = char_rnn.initial_state(batch_size=1)\n",
        "\n",
        "    #feed the seed phrase, if any\n",
        "    for i in range(len(seed_phrase) - 1):\n",
        "        print(x_sequence[:, -1].shape)\n",
        "        out, hid_state = char_rnn(x_sequence[i].unsqueeze(0), None if i == 0 else hid_state)\n",
        "\n",
        "    #start generating\n",
        "    for i in range(max_length - len(seed_phrase)):\n",
        "        print(x_sequence.shape, x_sequence)\n",
        "        out, hid_state = char_rnn(x_sequence[i].unsqueeze(0))\n",
        "        # Be really careful here with the model output\n",
        "        p_next = F.softmax(out / temperature, dim=-1).data.numpy()[0]\n",
        "\n",
        "        # sample next token and push it back into x_sequence\n",
        "        print(p_next.shape, len(tokens))\n",
        "        next_ix = np.random.choice(len(tokens), p=p_next)\n",
        "        next_ix = torch.tensor([[next_ix]], dtype=torch.int64)\n",
        "        print(x_sequence.shape, next_ix.shape)\n",
        "        x_sequence = torch.cat([x_sequence, next_ix], dim=1)\n",
        "\n",
        "    return ''.join([tokens[ix] for ix in x_sequence.data.numpy()[0]])"
      ]
    },
    {
      "cell_type": "code",
      "source": [
        "def generate_text(model, temperature, seed_phrase, max_length=500):\n",
        "    model.eval()\n",
        "    hidden = model.init_hidden()\n",
        "    result = seed_phrase\n",
        "    input = chunk_to_tensor(seed_phrase).to(device)\n",
        "\n",
        "    for _ in range(max_length):\n",
        "        output, hidden = model(input[-1], hidden)\n",
        "        output_dist = output.view(-1).div(temperature).exp()\n",
        "        top_i = torch.multinomial(output_dist, 1)[0]\n",
        "\n",
        "        predicted_char = idx_to_token[top_i.item()]\n",
        "        result += predicted_char\n",
        "        input = chunk_to_tensor(result[-len(seed_phrase):]).to(device)\n",
        "\n",
        "    return result"
      ],
      "metadata": {
        "id": "0ARr5zCLbc2A"
      },
      "execution_count": 29,
      "outputs": []
    },
    {
      "cell_type": "code",
      "execution_count": 31,
      "metadata": {
        "colab": {
          "base_uri": "https://localhost:8080/"
        },
        "id": "KpRp0faRPTvL",
        "outputId": "eab3234c-067d-455b-faff-b7cde443b145"
      },
      "outputs": [
        {
          "output_type": "stream",
          "name": "stdout",
          "text": [
            "мой дядя самых честных правил в зовет,\n",
            "и дыла де подлуго просбудеть воним,\n",
            "чтобых раскузарнечной промужден себязья тери\n",
            "\n",
            "\n",
            "м роско пось я зорат\n",
            "и отчестын симер добыет, прознон коверизать прешук,\n",
            "сек ой стристо натавись,\n",
            "натов содений,\n",
            "чео завости бружеть ерышолять,\n",
            "полать перкек слетой,\n",
            "треско казнак езен взонеть\n",
            "и сяетя завалья храний сте сердата поспризать? стею зервенне порным, заворонью\n",
            "себыть ятереник ка поревин,\n",
            "что вопрани! когса сахор улчтять, шабогорок юбять я граждын\n",
            "\n",
            "\n",
            "огоной нежеж попот; там,\n",
            "чен ко промут белья \n"
          ]
        }
      ],
      "source": [
        "# An example of generated text.\n",
        "print(generate_text(rnn, seed_phrase='мой дядя самых честных правил', max_length=500,temperature=0.5))"
      ]
    },
    {
      "cell_type": "markdown",
      "metadata": {
        "id": "jumNBFKhPTvM"
      },
      "source": [
        "### More poetic model\n",
        "\n",
        "Let's use LSTM instead of vanilla RNN and compare the results."
      ]
    },
    {
      "cell_type": "markdown",
      "metadata": {
        "id": "jPQZ1wMTPTvM"
      },
      "source": [
        "Plot the loss function of the number of epochs. Does the final loss become better?"
      ]
    },
    {
      "cell_type": "code",
      "execution_count": 10,
      "metadata": {
        "collapsed": true,
        "id": "hcZ8AECMPTvM",
        "colab": {
          "base_uri": "https://localhost:8080/"
        },
        "outputId": "53e8a3dd-33d1-4d32-c68c-b569672ae5ca"
      },
      "outputs": [
        {
          "output_type": "stream",
          "name": "stdout",
          "text": [
            "Generated chunk: перва madame за ним ходила,\n",
            "потом monsieur ее сменил;\n",
            "ребенок был резов, но мил.\n",
            "monsieur l’abbe€, фр\n",
            "Epoch: 100 / 10000. Average Loss: 3.4157\n",
            "Epoch: 200 / 10000. Average Loss: 3.0284\n",
            "Epoch: 300 / 10000. Average Loss: 2.7820\n",
            "Epoch: 400 / 10000. Average Loss: 2.7114\n",
            "Epoch: 500 / 10000. Average Loss: 2.6092\n",
            "Epoch: 600 / 10000. Average Loss: 2.5400\n",
            "Epoch: 700 / 10000. Average Loss: 2.4842\n",
            "Epoch: 800 / 10000. Average Loss: 2.4239\n",
            "Epoch: 900 / 10000. Average Loss: 2.3650\n",
            "Epoch: 1000 / 10000. Average Loss: 2.3225\n",
            "Epoch: 1100 / 10000. Average Loss: 2.2897\n",
            "Epoch: 1200 / 10000. Average Loss: 2.2366\n",
            "Epoch: 1300 / 10000. Average Loss: 2.1781\n",
            "Epoch: 1400 / 10000. Average Loss: 2.1524\n",
            "Epoch: 1500 / 10000. Average Loss: 2.1472\n",
            "Epoch: 1600 / 10000. Average Loss: 2.0894\n",
            "Epoch: 1700 / 10000. Average Loss: 2.0456\n",
            "Epoch: 1800 / 10000. Average Loss: 2.0095\n",
            "Epoch: 1900 / 10000. Average Loss: 1.9667\n",
            "Epoch: 2000 / 10000. Average Loss: 1.9374\n",
            "Epoch: 2100 / 10000. Average Loss: 1.8803\n",
            "Epoch: 2200 / 10000. Average Loss: 1.8590\n",
            "Epoch: 2300 / 10000. Average Loss: 1.7569\n",
            "Epoch: 2400 / 10000. Average Loss: 1.7481\n",
            "Epoch: 2500 / 10000. Average Loss: 1.6775\n",
            "Epoch: 2600 / 10000. Average Loss: 1.6493\n",
            "Epoch: 2700 / 10000. Average Loss: 1.5918\n",
            "Epoch: 2800 / 10000. Average Loss: 1.5344\n",
            "Epoch: 2900 / 10000. Average Loss: 1.5274\n",
            "Epoch: 3000 / 10000. Average Loss: 1.4233\n",
            "Epoch: 3100 / 10000. Average Loss: 1.4067\n",
            "Epoch: 3200 / 10000. Average Loss: 1.3755\n",
            "Epoch: 3300 / 10000. Average Loss: 1.3335\n",
            "Epoch: 3400 / 10000. Average Loss: 1.3045\n",
            "Epoch: 3500 / 10000. Average Loss: 1.2540\n",
            "Epoch: 3600 / 10000. Average Loss: 1.1987\n",
            "Epoch: 3700 / 10000. Average Loss: 1.1620\n",
            "Epoch: 3800 / 10000. Average Loss: 1.1523\n",
            "Epoch: 3900 / 10000. Average Loss: 1.1766\n",
            "Epoch: 4000 / 10000. Average Loss: 1.1074\n",
            "Epoch: 4100 / 10000. Average Loss: 1.0820\n",
            "Epoch: 4200 / 10000. Average Loss: 1.0176\n",
            "Epoch: 4300 / 10000. Average Loss: 1.0200\n",
            "Epoch: 4400 / 10000. Average Loss: 1.0248\n",
            "Epoch: 4500 / 10000. Average Loss: 0.9404\n",
            "Epoch: 4600 / 10000. Average Loss: 0.9074\n",
            "Epoch: 4700 / 10000. Average Loss: 0.9146\n",
            "Epoch: 4800 / 10000. Average Loss: 0.9653\n",
            "Epoch: 4900 / 10000. Average Loss: 0.9080\n",
            "Epoch: 5000 / 10000. Average Loss: 0.8396\n",
            "Epoch: 5100 / 10000. Average Loss: 0.8865\n",
            "Epoch: 5200 / 10000. Average Loss: 0.8145\n",
            "Epoch: 5300 / 10000. Average Loss: 0.8730\n",
            "Epoch: 5400 / 10000. Average Loss: 0.8267\n",
            "Epoch: 5500 / 10000. Average Loss: 0.8126\n",
            "Epoch: 5600 / 10000. Average Loss: 0.8169\n",
            "Epoch: 5700 / 10000. Average Loss: 0.7874\n",
            "Epoch: 5800 / 10000. Average Loss: 0.7907\n",
            "Epoch: 5900 / 10000. Average Loss: 0.8069\n",
            "Epoch: 6000 / 10000. Average Loss: 0.7110\n",
            "Epoch: 6100 / 10000. Average Loss: 0.7262\n",
            "Epoch: 6200 / 10000. Average Loss: 0.6689\n",
            "Epoch: 6300 / 10000. Average Loss: 0.6935\n",
            "Epoch: 6400 / 10000. Average Loss: 0.6482\n",
            "Epoch: 6500 / 10000. Average Loss: 0.6965\n",
            "Epoch: 6600 / 10000. Average Loss: 0.7080\n",
            "Epoch: 6700 / 10000. Average Loss: 0.6813\n",
            "Epoch: 6800 / 10000. Average Loss: 0.6716\n",
            "Epoch: 6900 / 10000. Average Loss: 0.6618\n",
            "Epoch: 7000 / 10000. Average Loss: 0.6409\n",
            "Epoch: 7100 / 10000. Average Loss: 0.6452\n",
            "Epoch: 7200 / 10000. Average Loss: 0.6464\n",
            "Epoch: 7300 / 10000. Average Loss: 0.6305\n",
            "Epoch: 7400 / 10000. Average Loss: 0.6016\n",
            "Epoch: 7500 / 10000. Average Loss: 0.5927\n",
            "Epoch: 7600 / 10000. Average Loss: 0.5841\n",
            "Epoch: 7700 / 10000. Average Loss: 0.5798\n",
            "Epoch: 7800 / 10000. Average Loss: 0.5817\n",
            "Epoch: 7900 / 10000. Average Loss: 0.5404\n",
            "Epoch: 8000 / 10000. Average Loss: 0.5788\n",
            "Epoch: 8100 / 10000. Average Loss: 0.5731\n",
            "Epoch: 8200 / 10000. Average Loss: 0.5712\n",
            "Epoch: 8300 / 10000. Average Loss: 0.5374\n",
            "Epoch: 8400 / 10000. Average Loss: 0.5579\n",
            "Epoch: 8500 / 10000. Average Loss: 0.5600\n",
            "Epoch: 8600 / 10000. Average Loss: 0.5998\n",
            "Epoch: 8700 / 10000. Average Loss: 0.5733\n",
            "Epoch: 8800 / 10000. Average Loss: 0.5327\n",
            "Epoch: 8900 / 10000. Average Loss: 0.5297\n",
            "Epoch: 9000 / 10000. Average Loss: 0.5156\n",
            "Epoch: 9100 / 10000. Average Loss: 0.5043\n",
            "Epoch: 9200 / 10000. Average Loss: 0.5015\n",
            "Epoch: 9300 / 10000. Average Loss: 0.4873\n",
            "Epoch: 9400 / 10000. Average Loss: 0.4956\n",
            "Epoch: 9500 / 10000. Average Loss: 0.5147\n",
            "Epoch: 9600 / 10000. Average Loss: 0.5291\n",
            "Epoch: 9700 / 10000. Average Loss: 0.5611\n",
            "Epoch: 9800 / 10000. Average Loss: 0.4819\n",
            "Epoch: 9900 / 10000. Average Loss: 0.4475\n",
            "Epoch: 10000 / 10000. Average Loss: 0.4613\n"
          ]
        }
      ],
      "source": [
        "# Your beautiful code here\n",
        "class LSTMCell(nn.Module):\n",
        "    def __init__(self, input_size, hidden_size):\n",
        "        super(LSTMCell, self).__init__()\n",
        "        self.hidden_size = hidden_size\n",
        "\n",
        "        self.i2i = nn.Linear(input_size, hidden_size)\n",
        "        self.h2i = nn.Linear(hidden_size, hidden_size)\n",
        "\n",
        "        self.i2f = nn.Linear(input_size, hidden_size)\n",
        "        self.h2f = nn.Linear(hidden_size, hidden_size)\n",
        "\n",
        "        self.i2c = nn.Linear(input_size, hidden_size)\n",
        "        self.h2c = nn.Linear(hidden_size, hidden_size)\n",
        "\n",
        "        self.i2o = nn.Linear(input_size, hidden_size)\n",
        "        self.h2o = nn.Linear(hidden_size, hidden_size)\n",
        "\n",
        "        self.sigmoid = nn.Sigmoid()\n",
        "        self.tanh = nn.Tanh()\n",
        "        self.softmax = nn.LogSoftmax(dim=1)\n",
        "\n",
        "    def forward(self, input, hidden):\n",
        "        hx, cx = hidden\n",
        "        ingate = self.sigmoid(self.i2i(input) + self.h2i(hx))\n",
        "        forgetgate = self.sigmoid(self.i2f(input) + self.h2f(hx))\n",
        "        cellgate = self.tanh(self.i2c(input) + self.h2c(hx))\n",
        "        outgate = self.sigmoid(self.i2o(input) + self.h2o(hx))\n",
        "\n",
        "        cy = (forgetgate * cx) + (ingate * cellgate)\n",
        "        hy = outgate * self.tanh(cy)\n",
        "        output = self.softmax(self.h2o(hy))\n",
        "        return output, (hy, cy)\n",
        "\n",
        "    def init_hidden(self, batch_size=1):\n",
        "        return (torch.zeros(batch_size, self.hidden_size, device=device),\n",
        "                torch.zeros(batch_size, self.hidden_size, device=device))\n",
        "\n",
        "n_hidden = 128\n",
        "lstm = LSTMCell(num_tokens, n_hidden)\n",
        "lstm.to(device)\n",
        "\n",
        "criterion = nn.NLLLoss()\n",
        "learning_rate = 0.005\n",
        "optimizer = torch.optim.Adam(lstm.parameters(), lr=learning_rate)\n",
        "\n",
        "def lstm_train(inp, target):\n",
        "    lstm.zero_grad()\n",
        "    hidden = lstm.init_hidden()\n",
        "    loss = 0\n",
        "\n",
        "    for i in range(inp.size()[0]):\n",
        "        output, hidden = lstm(inp[i].to(device), hidden)\n",
        "        loss += criterion(output, target[i].to(device))\n",
        "\n",
        "    loss.backward()\n",
        "    optimizer.step()\n",
        "\n",
        "    return output, loss.item() / seq_length\n",
        "\n",
        "n_epochs = 10000\n",
        "current_loss = 0\n",
        "all_losses = []\n",
        "\n",
        "# Проверка функции generate_chunk\n",
        "chunk = generate_chunk()\n",
        "print(f\"Generated chunk: {chunk}\")\n",
        "\n",
        "for epoch in range(1, n_epochs + 1):\n",
        "    inp, target = training_set()\n",
        "    output, loss = lstm_train(inp, target)\n",
        "    current_loss += loss\n",
        "\n",
        "    if epoch % 100 == 0:\n",
        "        print(f'Epoch: {epoch} / {n_epochs}. Average Loss: {current_loss / 100:.4f}')\n",
        "        all_losses.append(current_loss / 10)\n",
        "        current_loss = 0"
      ]
    },
    {
      "cell_type": "markdown",
      "metadata": {
        "id": "bZ01ZVnrPTvM"
      },
      "source": [
        "Generate text using the trained net with different `temperature` parameter: `[0.1, 0.2, 0.5, 1.0, 2.0]`.\n",
        "\n",
        "Evaluate the results visually, try to interpret them."
      ]
    },
    {
      "cell_type": "code",
      "execution_count": 28,
      "metadata": {
        "collapsed": true,
        "id": "KW2Z3P0xPTvM",
        "colab": {
          "base_uri": "https://localhost:8080/"
        },
        "outputId": "39fa1c09-5df1-425e-a6fa-b3f6da810ccc"
      },
      "outputs": [
        {
          "output_type": "stream",
          "name": "stdout",
          "text": [
            "мой дядя самых честных правил своей.\n",
            "\n",
            "\n",
            "\n",
            "xix\n",
            "тау продили свобой,\n",
            "еду вы? мне имел охоты\n",
            "в молга евгению мносбуть,\n",
            "там белетых те на\n"
          ]
        }
      ],
      "source": [
        "# Text generation with different temperature values here\n",
        "def generate_text(model, temperature, seed_phrase, max_length=500):\n",
        "    model.eval()\n",
        "    hidden = model.init_hidden()\n",
        "    result = seed_phrase\n",
        "    input = chunk_to_tensor(seed_phrase).to(device)\n",
        "\n",
        "    for _ in range(max_length):\n",
        "        output, hidden = model(input[-1], hidden)\n",
        "        output_dist = output.view(-1).div(temperature).exp()\n",
        "        top_i = torch.multinomial(output_dist, 1)[0]\n",
        "\n",
        "        predicted_char = idx_to_token[top_i.item()]\n",
        "        result += predicted_char\n",
        "        input = chunk_to_tensor(result[-len(seed_phrase):]).to(device)\n",
        "\n",
        "    return result\n",
        "\n",
        "\n",
        "print(generate_text(lstm, seed_phrase='мой дядя самых честных правил ', max_length=100,temperature=0.5))"
      ]
    },
    {
      "cell_type": "markdown",
      "metadata": {
        "id": "yCLZ7LlUPTvM"
      },
      "source": [
        "### Saving and loading models"
      ]
    },
    {
      "cell_type": "markdown",
      "metadata": {
        "id": "f34SpSuqPTvM"
      },
      "source": [
        "Save the model to the disk, then load it and generate text. Examples are available [here](https://pytorch.org/tutorials/beginner/saving_loading_models.html])."
      ]
    },
    {
      "cell_type": "code",
      "execution_count": null,
      "metadata": {
        "collapsed": true,
        "id": "RujiQJ3NPTvM"
      },
      "outputs": [],
      "source": [
        "# Saving and loading code here"
      ]
    },
    {
      "cell_type": "markdown",
      "metadata": {
        "id": "1Avq73D6PTvM"
      },
      "source": [
        "### References\n",
        "1. <a href='http://karpathy.github.io/2015/05/21/rnn-effectiveness/'> Andrew Karpathy blog post about RNN. </a>\n",
        "There are several examples of genration: Shakespeare texts, Latex formulas, Linux Sourse Code and children names.\n",
        "2. <a href='https://github.com/karpathy/char-rnn'> Repo with char-rnn code </a>\n",
        "3. Cool repo with PyTorch examples: [link](https://github.com/spro/practical-pytorch)"
      ]
    }
  ],
  "metadata": {
    "anaconda-cloud": {},
    "kernelspec": {
      "display_name": "Python 3",
      "name": "python3"
    },
    "language_info": {
      "codemirror_mode": {
        "name": "ipython",
        "version": 3
      },
      "file_extension": ".py",
      "mimetype": "text/x-python",
      "name": "python",
      "nbconvert_exporter": "python",
      "pygments_lexer": "ipython3",
      "version": "3.7.7"
    },
    "colab": {
      "provenance": [],
      "include_colab_link": true
    }
  },
  "nbformat": 4,
  "nbformat_minor": 0
}